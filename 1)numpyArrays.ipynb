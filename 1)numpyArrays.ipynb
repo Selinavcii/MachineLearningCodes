{
  "nbformat": 4,
  "nbformat_minor": 0,
  "metadata": {
    "colab": {
      "provenance": [],
      "authorship_tag": "ABX9TyOpkpbvs2EM+QH9Yr2hZ4SF",
      "include_colab_link": true
    },
    "kernelspec": {
      "name": "python3",
      "display_name": "Python 3"
    },
    "language_info": {
      "name": "python"
    }
  },
  "cells": [
    {
      "cell_type": "markdown",
      "metadata": {
        "id": "view-in-github",
        "colab_type": "text"
      },
      "source": [
        "<a href=\"https://colab.research.google.com/github/Selinavcii/MachineLearningCodes/blob/main/numpyArrays.ipynb\" target=\"_parent\"><img src=\"https://colab.research.google.com/assets/colab-badge.svg\" alt=\"Open In Colab\"/></a>"
      ]
    },
    {
      "cell_type": "markdown",
      "source": [
        "NumPy-Numerical Python\n",
        "\n",
        "Advantages Of Numpy Arrays:\n",
        " 1. Allows several mathematical operations\n",
        " 2. Faster Operations"
      ],
      "metadata": {
        "id": "guG-25WN5CWI"
      }
    },
    {
      "cell_type": "code",
      "execution_count": 1,
      "metadata": {
        "id": "jMj7GO8o4Tve"
      },
      "outputs": [],
      "source": [
        "import numpy as np"
      ]
    },
    {
      "cell_type": "markdown",
      "source": [
        "list vs numpy- time taken"
      ],
      "metadata": {
        "id": "NAMLXNS-578F"
      }
    },
    {
      "cell_type": "code",
      "source": [
        "from time import process_time"
      ],
      "metadata": {
        "id": "QdOeJ5yk6AQk"
      },
      "execution_count": 2,
      "outputs": []
    },
    {
      "cell_type": "markdown",
      "source": [
        "time taken by a list"
      ],
      "metadata": {
        "id": "hase9boi6D3n"
      }
    },
    {
      "cell_type": "code",
      "source": [
        "python_list = [i for i in range(10000)]\n",
        "\n",
        "start_time=process_time()\n",
        "\n",
        "python_list = [i +5 for i in python_list]\n",
        "\n",
        "end_time= process_time()\n",
        "\n",
        "print(end_time-start_time)"
      ],
      "metadata": {
        "colab": {
          "base_uri": "https://localhost:8080/"
        },
        "id": "ZvbgJ2Dt6HNQ",
        "outputId": "6a61da92-4cfa-4fa8-b579-0823f2b1af7b"
      },
      "execution_count": 3,
      "outputs": [
        {
          "output_type": "stream",
          "name": "stdout",
          "text": [
            "0.00171864899999985\n"
          ]
        }
      ]
    },
    {
      "cell_type": "markdown",
      "source": [
        "time taken by a numpy array"
      ],
      "metadata": {
        "id": "5S0RRZsN661o"
      }
    },
    {
      "cell_type": "code",
      "source": [
        "np_array=np.array([i for i in range(10000)])\n",
        "\n",
        "start_time=process_time()\n",
        "\n",
        "np_array+=5\n",
        "\n",
        "end_time= process_time()\n",
        "\n",
        "print(end_time-start_time)\n"
      ],
      "metadata": {
        "colab": {
          "base_uri": "https://localhost:8080/"
        },
        "id": "5OVZ_fEm6-p6",
        "outputId": "f5c004c9-f5dd-444b-a66f-c9aee2ce29a3"
      },
      "execution_count": 5,
      "outputs": [
        {
          "output_type": "stream",
          "name": "stdout",
          "text": [
            "0.000501470000000559\n"
          ]
        }
      ]
    },
    {
      "cell_type": "markdown",
      "source": [
        "Lists-numpy arrays"
      ],
      "metadata": {
        "id": "9ZmnuMWg7lMU"
      }
    },
    {
      "cell_type": "code",
      "source": [
        "#list\n",
        "\n",
        "list1=[1,2,3,4,5,6]\n",
        "\n",
        "print(list1)\n",
        "\n",
        "type(list1)"
      ],
      "metadata": {
        "colab": {
          "base_uri": "https://localhost:8080/"
        },
        "id": "1FSpKdRh7oH0",
        "outputId": "d9938967-1b68-4165-e1d6-731a75f6c937"
      },
      "execution_count": 7,
      "outputs": [
        {
          "output_type": "stream",
          "name": "stdout",
          "text": [
            "[1, 2, 3, 4, 5, 6]\n"
          ]
        },
        {
          "output_type": "execute_result",
          "data": {
            "text/plain": [
              "list"
            ]
          },
          "metadata": {},
          "execution_count": 7
        }
      ]
    },
    {
      "cell_type": "code",
      "source": [
        "#numpy array\n",
        "\n",
        "np_array=np.array([1,2,3,4,5,6])\n",
        "\n",
        "print(np_array)\n",
        "\n",
        "type(np_array)"
      ],
      "metadata": {
        "colab": {
          "base_uri": "https://localhost:8080/"
        },
        "id": "ffewmMOk71yY",
        "outputId": "2d136b8b-e3e8-4fdd-c7eb-6a80dc869737"
      },
      "execution_count": 8,
      "outputs": [
        {
          "output_type": "stream",
          "name": "stdout",
          "text": [
            "[1 2 3 4 5 6]\n"
          ]
        },
        {
          "output_type": "execute_result",
          "data": {
            "text/plain": [
              "numpy.ndarray"
            ]
          },
          "metadata": {},
          "execution_count": 8
        }
      ]
    },
    {
      "cell_type": "code",
      "source": [
        "# creating a 1 dim array\n",
        "\n",
        "a=np.array([1,2,3,4])\n",
        "\n",
        "print(a)\n",
        "\n",
        "a.shape # 4 column"
      ],
      "metadata": {
        "colab": {
          "base_uri": "https://localhost:8080/"
        },
        "id": "clSsEh9z8Jz_",
        "outputId": "39fa42d3-559d-4149-b6b4-4420afbf477a"
      },
      "execution_count": 11,
      "outputs": [
        {
          "output_type": "stream",
          "name": "stdout",
          "text": [
            "[1 2 3 4]\n"
          ]
        },
        {
          "output_type": "execute_result",
          "data": {
            "text/plain": [
              "(4,)"
            ]
          },
          "metadata": {},
          "execution_count": 11
        }
      ]
    },
    {
      "cell_type": "code",
      "source": [
        "#creating a 2 dim array\n",
        "\n",
        "b=np.array([(1,2,3,4),(5,6,7,8)])\n",
        "\n",
        "print(b)\n",
        "\n",
        "b.shape # 2 row, 4 column"
      ],
      "metadata": {
        "colab": {
          "base_uri": "https://localhost:8080/"
        },
        "id": "OhUEEdK08VEO",
        "outputId": "6663832d-7c6e-4802-901c-360c44243e5e"
      },
      "execution_count": 12,
      "outputs": [
        {
          "output_type": "stream",
          "name": "stdout",
          "text": [
            "[[1 2 3 4]\n",
            " [5 6 7 8]]\n"
          ]
        },
        {
          "output_type": "execute_result",
          "data": {
            "text/plain": [
              "(2, 4)"
            ]
          },
          "metadata": {},
          "execution_count": 12
        }
      ]
    },
    {
      "cell_type": "code",
      "source": [
        "c= np.array([(1,2,3,4),(5,6,7,8)],dtype=float)\n",
        "\n",
        "print(c)"
      ],
      "metadata": {
        "colab": {
          "base_uri": "https://localhost:8080/"
        },
        "id": "-yE0Jmkb9G4A",
        "outputId": "c3176278-39d8-4f6d-8be7-3b758bf92c0a"
      },
      "execution_count": 13,
      "outputs": [
        {
          "output_type": "stream",
          "name": "stdout",
          "text": [
            "[[1. 2. 3. 4.]\n",
            " [5. 6. 7. 8.]]\n"
          ]
        }
      ]
    },
    {
      "cell_type": "code",
      "source": [
        "#create a numpy array of Zeros\n",
        "\n",
        "x=np.zeros((4,5))\n",
        "\n",
        "print(x)"
      ],
      "metadata": {
        "colab": {
          "base_uri": "https://localhost:8080/"
        },
        "id": "ZBBCf8nD9fTc",
        "outputId": "f15a9d93-3e29-4930-decd-1a1be9a85542"
      },
      "execution_count": 14,
      "outputs": [
        {
          "output_type": "stream",
          "name": "stdout",
          "text": [
            "[[0. 0. 0. 0. 0.]\n",
            " [0. 0. 0. 0. 0.]\n",
            " [0. 0. 0. 0. 0.]\n",
            " [0. 0. 0. 0. 0.]]\n"
          ]
        }
      ]
    },
    {
      "cell_type": "code",
      "source": [
        "# create a numpy array of a particular value\n",
        "\n",
        "y=np.full((5,4),7)\n",
        "\n",
        "print(y)\n"
      ],
      "metadata": {
        "colab": {
          "base_uri": "https://localhost:8080/"
        },
        "id": "09R_LBCf9wZg",
        "outputId": "9de570f9-638d-4926-c620-837c7c573204"
      },
      "execution_count": 15,
      "outputs": [
        {
          "output_type": "stream",
          "name": "stdout",
          "text": [
            "[[7 7 7 7]\n",
            " [7 7 7 7]\n",
            " [7 7 7 7]\n",
            " [7 7 7 7]\n",
            " [7 7 7 7]]\n"
          ]
        }
      ]
    },
    {
      "cell_type": "code",
      "source": [
        "#create a numpy array with random values\n",
        "\n",
        "b=np.random.random((3,4))\n",
        "\n",
        "print(b)"
      ],
      "metadata": {
        "colab": {
          "base_uri": "https://localhost:8080/"
        },
        "id": "k5MkvDJ5-MIU",
        "outputId": "89a13ce4-76a2-4502-e525-ce1a2d63b3f3"
      },
      "execution_count": 17,
      "outputs": [
        {
          "output_type": "stream",
          "name": "stdout",
          "text": [
            "[[0.85158377 0.40173277 0.69075316 0.76802255]\n",
            " [0.44819805 0.92205202 0.13395927 0.80419651]\n",
            " [0.67407902 0.24553068 0.10961387 0.85891387]]\n"
          ]
        }
      ]
    },
    {
      "cell_type": "code",
      "source": [
        "#create random integer  values numpy array with a specific range\n",
        "\n",
        "c=np.random.randint(10,100,(3,5))  # values must be 10 to 100 , array must be 3 row 5 column\n",
        "\n",
        "print(c)\n"
      ],
      "metadata": {
        "colab": {
          "base_uri": "https://localhost:8080/"
        },
        "id": "1X45Ve8r-XuY",
        "outputId": "921849c2-a801-4f46-f346-3e6e8f307111"
      },
      "execution_count": 19,
      "outputs": [
        {
          "output_type": "stream",
          "name": "stdout",
          "text": [
            "[[76 49 49 34 70]\n",
            " [23 52 27 85 96]\n",
            " [97 80 17 58 72]]\n"
          ]
        }
      ]
    },
    {
      "cell_type": "code",
      "source": [
        "# create a numpy array of evenly spaced values\n",
        "\n",
        "d=np.linspace(10,30,6) # between 10 to 30, the increase amount is 6\n",
        "\n",
        "print(d)\n"
      ],
      "metadata": {
        "colab": {
          "base_uri": "https://localhost:8080/"
        },
        "id": "Sp2hRdDk-33D",
        "outputId": "52cf2d1b-e762-41d5-f2b2-42045704ab79"
      },
      "execution_count": 20,
      "outputs": [
        {
          "output_type": "stream",
          "name": "stdout",
          "text": [
            "[10. 14. 18. 22. 26. 30.]\n"
          ]
        }
      ]
    },
    {
      "cell_type": "code",
      "source": [
        "# convert a list to a numpy array\n",
        "\n",
        "list2 = [ 10,20,20,20,50]\n",
        "\n",
        "np_array=np.asarray(list2)\n",
        "\n",
        "print(\"List:\",list2 )\n",
        "\n",
        "print(\"Numpy array:\",np_array)\n",
        "\n"
      ],
      "metadata": {
        "colab": {
          "base_uri": "https://localhost:8080/"
        },
        "id": "NlOI3FHD_Ouw",
        "outputId": "9c2f8ff6-7bbb-4bce-cdbf-dc7abd9353ab"
      },
      "execution_count": 23,
      "outputs": [
        {
          "output_type": "stream",
          "name": "stdout",
          "text": [
            "List: [10, 20, 20, 20, 50]\n",
            "Numpy array: [10 20 20 20 50]\n"
          ]
        },
        {
          "output_type": "execute_result",
          "data": {
            "text/plain": [
              "numpy.ndarray"
            ]
          },
          "metadata": {},
          "execution_count": 23
        }
      ]
    },
    {
      "cell_type": "markdown",
      "source": [
        "Mathematical operations on a np array"
      ],
      "metadata": {
        "id": "owg7Za-TAWgr"
      }
    },
    {
      "cell_type": "code",
      "source": [
        "list1=[1,2,3,4,5]\n",
        "\n",
        "list2=[5,6,7,8,9,10]\n",
        "\n",
        "print(list1 + list2) # concatenate or joins two list"
      ],
      "metadata": {
        "colab": {
          "base_uri": "https://localhost:8080/"
        },
        "id": "WVeQVm7fAa1u",
        "outputId": "a1bb1d55-ec62-42fa-badb-83312102ae95"
      },
      "execution_count": 24,
      "outputs": [
        {
          "output_type": "stream",
          "name": "stdout",
          "text": [
            "[1, 2, 3, 4, 5, 5, 6, 7, 8, 9, 10]\n"
          ]
        }
      ]
    },
    {
      "cell_type": "code",
      "source": [
        "a = np.random.randint(0,10,(3,3))\n",
        "\n",
        "b = np.random.randint(10,20,(3,3))\n",
        "\n",
        "print(a)\n",
        "\n",
        "print(b)\n",
        "\n",
        "print(a+b) # add the values with each other\n"
      ],
      "metadata": {
        "colab": {
          "base_uri": "https://localhost:8080/"
        },
        "id": "Dhd9xA9SAryZ",
        "outputId": "6e431bf4-7078-432f-ca4b-52aba8ced0ec"
      },
      "execution_count": 27,
      "outputs": [
        {
          "output_type": "stream",
          "name": "stdout",
          "text": [
            "[[1 1 1]\n",
            " [5 2 6]\n",
            " [3 0 8]]\n",
            "[[12 11 19]\n",
            " [13 13 12]\n",
            " [13 18 14]]\n",
            "[[13 12 20]\n",
            " [18 15 18]\n",
            " [16 18 22]]\n"
          ]
        }
      ]
    },
    {
      "cell_type": "markdown",
      "source": [
        "Array Manipulation"
      ],
      "metadata": {
        "id": "zPlwdHpaBd2W"
      }
    },
    {
      "cell_type": "code",
      "source": [
        "array= np.random.randint(0,10,(2,3))\n",
        "\n",
        "print(\"array\")\n",
        "\n",
        "print(array)\n",
        "\n",
        "print(array.shape)\n",
        "\n",
        "#transpose\n",
        "\n",
        "print(\"transposed array\")\n",
        "\n",
        "trans= np.transpose(array)\n",
        "\n",
        "print(trans)\n",
        "\n",
        "print(trans.shape)"
      ],
      "metadata": {
        "colab": {
          "base_uri": "https://localhost:8080/"
        },
        "id": "ceiEIK8CBfnc",
        "outputId": "ca8a3851-131b-4482-a9fa-539a233f3c3e"
      },
      "execution_count": 36,
      "outputs": [
        {
          "output_type": "stream",
          "name": "stdout",
          "text": [
            "array\n",
            "[[5 9 3]\n",
            " [0 7 3]]\n",
            "(2, 3)\n",
            "transposed array\n",
            "[[5 0]\n",
            " [9 7]\n",
            " [3 3]]\n",
            "(3, 2)\n"
          ]
        }
      ]
    },
    {
      "cell_type": "code",
      "source": [],
      "metadata": {
        "colab": {
          "base_uri": "https://localhost:8080/"
        },
        "id": "Zp86G4bwCMm7",
        "outputId": "9f0e55d7-712b-4738-b90e-52b18e0415eb"
      },
      "execution_count": 30,
      "outputs": [
        {
          "output_type": "stream",
          "name": "stdout",
          "text": [
            "[[0 6]\n",
            " [4 8]\n",
            " [2 3]]\n",
            "(3, 2)\n"
          ]
        }
      ]
    },
    {
      "cell_type": "code",
      "source": [
        "# reshaping an array\n",
        "\n",
        "a= np.random.randint(0,10,(2,3))\n",
        "\n",
        "print(\"a\")\n",
        "\n",
        "print(a)\n",
        "\n",
        "print(a.shape)\n",
        "\n",
        "print(\"b\")\n",
        "\n",
        "b= a .reshape(3,2)\n",
        "\n",
        "print(b)\n",
        "\n",
        "print(b.shape)\n",
        "\n",
        "\n",
        "\n"
      ],
      "metadata": {
        "colab": {
          "base_uri": "https://localhost:8080/"
        },
        "id": "3wa8JC4pCold",
        "outputId": "e87d437b-0300-45e8-c1ff-614d7e3efb53"
      },
      "execution_count": 35,
      "outputs": [
        {
          "output_type": "stream",
          "name": "stdout",
          "text": [
            "a\n",
            "[[4 1 9]\n",
            " [0 9 8]]\n",
            "(2, 3)\n",
            "b\n",
            "[[4 1]\n",
            " [9 0]\n",
            " [9 8]]\n",
            "(3, 2)\n"
          ]
        }
      ]
    },
    {
      "cell_type": "markdown",
      "source": [],
      "metadata": {
        "id": "uf53DxR-Arni"
      }
    },
    {
      "cell_type": "code",
      "source": [],
      "metadata": {
        "colab": {
          "base_uri": "https://localhost:8080/"
        },
        "id": "PIzlkoOLC2_4",
        "outputId": "5ddda6d9-ac3e-4e2e-8b96-0d8012b63ddb"
      },
      "execution_count": 32,
      "outputs": [
        {
          "output_type": "stream",
          "name": "stdout",
          "text": [
            "[[1 1]\n",
            " [3 5]\n",
            " [0 1]]\n",
            "(3, 2)\n"
          ]
        }
      ]
    },
    {
      "cell_type": "markdown",
      "source": [],
      "metadata": {
        "id": "yItZWNzn8Je5"
      }
    }
  ]
}
