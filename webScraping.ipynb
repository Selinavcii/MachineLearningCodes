{
  "nbformat": 4,
  "nbformat_minor": 0,
  "metadata": {
    "colab": {
      "provenance": [],
      "authorship_tag": "ABX9TyMnTGGY+wIcPTiRIfS4ikQL",
      "include_colab_link": true
    },
    "kernelspec": {
      "name": "python3",
      "display_name": "Python 3"
    },
    "language_info": {
      "name": "python"
    }
  },
  "cells": [
    {
      "cell_type": "markdown",
      "metadata": {
        "id": "view-in-github",
        "colab_type": "text"
      },
      "source": [
        "<a href=\"https://colab.research.google.com/github/Selinavcii/MachineLearningCodes/blob/main/webScraping.ipynb\" target=\"_parent\"><img src=\"https://colab.research.google.com/assets/colab-badge.svg\" alt=\"Open In Colab\"/></a>"
      ]
    },
    {
      "cell_type": "code",
      "execution_count": 17,
      "metadata": {
        "id": "q538tAXFfEI8"
      },
      "outputs": [],
      "source": [
        "from bs4 import BeautifulSoup as bs\n",
        "import requests"
      ]
    },
    {
      "cell_type": "code",
      "source": [
        "url=\"https://keithgalli.github.io/web-scraping/example.html\"\n",
        "\n",
        "r=requests.get(url)\n",
        "\n",
        "soup=bs(r.content)\n",
        "\n",
        "print(soup.prettify())"
      ],
      "metadata": {
        "colab": {
          "base_uri": "https://localhost:8080/"
        },
        "id": "_LWt_6AsfwBg",
        "outputId": "01832f0f-f381-412d-8bb0-d87383206da4"
      },
      "execution_count": 21,
      "outputs": [
        {
          "output_type": "stream",
          "name": "stdout",
          "text": [
            "<html>\n",
            " <head>\n",
            "  <title>\n",
            "   HTML Example\n",
            "  </title>\n",
            " </head>\n",
            " <body>\n",
            "  <div align=\"middle\">\n",
            "   <h1>\n",
            "    HTML Webpage\n",
            "   </h1>\n",
            "   <p>\n",
            "    Link to more interesting example:\n",
            "    <a href=\"https://keithgalli.github.io/web-scraping/webpage.html\">\n",
            "     keithgalli.github.io/web-scraping/webpage.html\n",
            "    </a>\n",
            "   </p>\n",
            "  </div>\n",
            "  <h2>\n",
            "   A Header\n",
            "  </h2>\n",
            "  <p>\n",
            "   <i>\n",
            "    Some italicized text\n",
            "   </i>\n",
            "  </p>\n",
            "  <h2>\n",
            "   Another header\n",
            "  </h2>\n",
            "  <p id=\"paragraph-id\">\n",
            "   <b>\n",
            "    Some bold text\n",
            "   </b>\n",
            "  </p>\n",
            " </body>\n",
            "</html>\n",
            "\n"
          ]
        }
      ]
    },
    {
      "cell_type": "markdown",
      "source": [
        "#find, find_all"
      ],
      "metadata": {
        "id": "PHNnx3aYAzge"
      }
    },
    {
      "cell_type": "code",
      "source": [
        "first_header=soup.find('h2')\n",
        "print(first_header)"
      ],
      "metadata": {
        "colab": {
          "base_uri": "https://localhost:8080/"
        },
        "id": "_1I3vYoJ_kXh",
        "outputId": "de618af3-c40f-41f0-8b52-7820452591c1"
      },
      "execution_count": 22,
      "outputs": [
        {
          "output_type": "stream",
          "name": "stdout",
          "text": [
            "<h2>A Header</h2>\n"
          ]
        }
      ]
    },
    {
      "cell_type": "code",
      "source": [
        "headers=soup.find_all('h2')\n",
        "print(headers)"
      ],
      "metadata": {
        "colab": {
          "base_uri": "https://localhost:8080/"
        },
        "id": "Vyfhj74RBBIe",
        "outputId": "bb27b297-a86d-43cb-acef-9d18bc6397a3"
      },
      "execution_count": 23,
      "outputs": [
        {
          "output_type": "stream",
          "name": "stdout",
          "text": [
            "[<h2>A Header</h2>, <h2>Another header</h2>]\n"
          ]
        }
      ]
    },
    {
      "cell_type": "code",
      "source": [
        "headers=soup.find_all(['h1','h2'])\n",
        "print(headers)"
      ],
      "metadata": {
        "colab": {
          "base_uri": "https://localhost:8080/"
        },
        "id": "ERnZ1FBKByqJ",
        "outputId": "c2ada49c-3f19-4f86-8d50-8d4ce82ffa42"
      },
      "execution_count": 24,
      "outputs": [
        {
          "output_type": "stream",
          "name": "stdout",
          "text": [
            "[<h1>HTML Webpage</h1>, <h2>A Header</h2>, <h2>Another header</h2>]\n"
          ]
        }
      ]
    },
    {
      "cell_type": "code",
      "source": [
        "paragraph=soup.find_all('p')\n",
        "paragraph"
      ],
      "metadata": {
        "colab": {
          "base_uri": "https://localhost:8080/"
        },
        "id": "jhT7vgZ8B79y",
        "outputId": "3aa0c741-a90e-444e-8297-33ab4d60da35"
      },
      "execution_count": 29,
      "outputs": [
        {
          "output_type": "execute_result",
          "data": {
            "text/plain": [
              "[<p>Link to more interesting example: <a href=\"https://keithgalli.github.io/web-scraping/webpage.html\">keithgalli.github.io/web-scraping/webpage.html</a></p>,\n",
              " <p><i>Some italicized text</i></p>,\n",
              " <p id=\"paragraph-id\"><b>Some bold text</b></p>]"
            ]
          },
          "metadata": {},
          "execution_count": 29
        }
      ]
    },
    {
      "cell_type": "code",
      "source": [
        "paragraph=soup.find_all('p',attrs={'id':'paragraph-id'})\n",
        "paragraph"
      ],
      "metadata": {
        "colab": {
          "base_uri": "https://localhost:8080/"
        },
        "id": "jKwqq5CeDEh-",
        "outputId": "8ffbc1d7-d013-4afd-cf53-81e2b80ad04e"
      },
      "execution_count": 30,
      "outputs": [
        {
          "output_type": "execute_result",
          "data": {
            "text/plain": [
              "[<p id=\"paragraph-id\"><b>Some bold text</b></p>]"
            ]
          },
          "metadata": {},
          "execution_count": 30
        }
      ]
    },
    {
      "cell_type": "code",
      "source": [
        "body=soup.find('body')\n",
        "div=body.find('div')\n",
        "header=div.find('h1')\n",
        "header"
      ],
      "metadata": {
        "colab": {
          "base_uri": "https://localhost:8080/"
        },
        "id": "cZgJc2RfDdQ4",
        "outputId": "6247c407-c02e-45ac-ca0e-3b1884fa5b26"
      },
      "execution_count": 33,
      "outputs": [
        {
          "output_type": "execute_result",
          "data": {
            "text/plain": [
              "<h1>HTML Webpage</h1>"
            ]
          },
          "metadata": {},
          "execution_count": 33
        }
      ]
    },
    {
      "cell_type": "markdown",
      "source": [
        "# we can search specific strings in our find/find_all calls"
      ],
      "metadata": {
        "id": "2quYPSk3Gi18"
      }
    },
    {
      "cell_type": "code",
      "source": [
        "import re\n",
        "\n",
        "paragraphs=soup.find_all('p',string=re.compile(\"Some\"))\n",
        "paragraphs"
      ],
      "metadata": {
        "colab": {
          "base_uri": "https://localhost:8080/"
        },
        "id": "ThdF4CDQGvm9",
        "outputId": "8a76df33-3f10-467b-df11-19c0c1097545"
      },
      "execution_count": 35,
      "outputs": [
        {
          "output_type": "execute_result",
          "data": {
            "text/plain": [
              "[<p><i>Some italicized text</i></p>,\n",
              " <p id=\"paragraph-id\"><b>Some bold text</b></p>]"
            ]
          },
          "metadata": {},
          "execution_count": 35
        }
      ]
    },
    {
      "cell_type": "code",
      "source": [
        "headers=soup.find_all('h2',string=re.compile(\"header\"))\n",
        "headers"
      ],
      "metadata": {
        "colab": {
          "base_uri": "https://localhost:8080/"
        },
        "id": "GrD5zY1pHCFO",
        "outputId": "90d5658a-1135-42bf-bf45-77297aafbe76"
      },
      "execution_count": 36,
      "outputs": [
        {
          "output_type": "execute_result",
          "data": {
            "text/plain": [
              "[<h2>Another header</h2>]"
            ]
          },
          "metadata": {},
          "execution_count": 36
        }
      ]
    },
    {
      "cell_type": "markdown",
      "source": [
        "#select (css selector)"
      ],
      "metadata": {
        "id": "PuNuiU_8HpTj"
      }
    },
    {
      "cell_type": "code",
      "source": [
        "print(soup.body.prettify())"
      ],
      "metadata": {
        "colab": {
          "base_uri": "https://localhost:8080/"
        },
        "id": "lUUwi0VeHsZ0",
        "outputId": "90784ef4-deee-4aa9-a439-db2670e46183"
      },
      "execution_count": 38,
      "outputs": [
        {
          "output_type": "stream",
          "name": "stdout",
          "text": [
            "<body>\n",
            " <div align=\"middle\">\n",
            "  <h1>\n",
            "   HTML Webpage\n",
            "  </h1>\n",
            "  <p>\n",
            "   Link to more interesting example:\n",
            "   <a href=\"https://keithgalli.github.io/web-scraping/webpage.html\">\n",
            "    keithgalli.github.io/web-scraping/webpage.html\n",
            "   </a>\n",
            "  </p>\n",
            " </div>\n",
            " <h2>\n",
            "  A Header\n",
            " </h2>\n",
            " <p>\n",
            "  <i>\n",
            "   Some italicized text\n",
            "  </i>\n",
            " </p>\n",
            " <h2>\n",
            "  Another header\n",
            " </h2>\n",
            " <p id=\"paragraph-id\">\n",
            "  <b>\n",
            "   Some bold text\n",
            "  </b>\n",
            " </p>\n",
            "</body>\n",
            "\n"
          ]
        }
      ]
    },
    {
      "cell_type": "code",
      "source": [
        "#we want all paragraphs\n",
        "content=soup.select('p')\n",
        "content"
      ],
      "metadata": {
        "colab": {
          "base_uri": "https://localhost:8080/"
        },
        "id": "4gjj5jKcM7Wh",
        "outputId": "2644ac27-82bd-491b-9aae-64fd4d976d0f"
      },
      "execution_count": 42,
      "outputs": [
        {
          "output_type": "execute_result",
          "data": {
            "text/plain": [
              "[<p>Link to more interesting example: <a href=\"https://keithgalli.github.io/web-scraping/webpage.html\">keithgalli.github.io/web-scraping/webpage.html</a></p>,\n",
              " <p><i>Some italicized text</i></p>,\n",
              " <p id=\"paragraph-id\"><b>Some bold text</b></p>]"
            ]
          },
          "metadata": {},
          "execution_count": 42
        }
      ]
    },
    {
      "cell_type": "code",
      "source": [
        "#we only want paragraph which is inside of div\n",
        "content=soup.select('div p')\n",
        "content"
      ],
      "metadata": {
        "colab": {
          "base_uri": "https://localhost:8080/"
        },
        "id": "haAd4DmqNHqc",
        "outputId": "f0637dd7-b5fb-4fdf-9dc9-d45aee80074e"
      },
      "execution_count": 43,
      "outputs": [
        {
          "output_type": "execute_result",
          "data": {
            "text/plain": [
              "[<p>Link to more interesting example: <a href=\"https://keithgalli.github.io/web-scraping/webpage.html\">keithgalli.github.io/web-scraping/webpage.html</a></p>]"
            ]
          },
          "metadata": {},
          "execution_count": 43
        }
      ]
    },
    {
      "cell_type": "code",
      "source": [
        "#we only want paragraph inside of h2\n",
        "content=soup.select('h2 ~ p')\n",
        "content"
      ],
      "metadata": {
        "colab": {
          "base_uri": "https://localhost:8080/"
        },
        "id": "2DDVDoh9NXV4",
        "outputId": "56599c90-bbbe-4b50-8261-d4105f8378b2"
      },
      "execution_count": 45,
      "outputs": [
        {
          "output_type": "execute_result",
          "data": {
            "text/plain": [
              "[<p><i>Some italicized text</i></p>,\n",
              " <p id=\"paragraph-id\"><b>Some bold text</b></p>]"
            ]
          },
          "metadata": {},
          "execution_count": 45
        }
      ]
    },
    {
      "cell_type": "code",
      "source": [
        "bold=soup.select(\"p#paragraph-id\")\n",
        "bold"
      ],
      "metadata": {
        "colab": {
          "base_uri": "https://localhost:8080/"
        },
        "id": "1qxQxYgDOgYr",
        "outputId": "59f975c1-383c-4b43-8e8a-fbe5456e20d2"
      },
      "execution_count": 46,
      "outputs": [
        {
          "output_type": "execute_result",
          "data": {
            "text/plain": [
              "[<p id=\"paragraph-id\"><b>Some bold text</b></p>]"
            ]
          },
          "metadata": {},
          "execution_count": 46
        }
      ]
    },
    {
      "cell_type": "markdown",
      "source": [
        "Get different properties of HTML"
      ],
      "metadata": {
        "id": "2oUalG0kPyrm"
      }
    },
    {
      "cell_type": "code",
      "source": [
        "header=soup.find(\"h2\")\n",
        "header.string\n"
      ],
      "metadata": {
        "colab": {
          "base_uri": "https://localhost:8080/",
          "height": 36
        },
        "id": "K174ycQsP2T3",
        "outputId": "604d62bd-9a51-4237-f37f-1d1972741691"
      },
      "execution_count": 53,
      "outputs": [
        {
          "output_type": "execute_result",
          "data": {
            "text/plain": [
              "'A Header'"
            ],
            "application/vnd.google.colaboratory.intrinsic+json": {
              "type": "string"
            }
          },
          "metadata": {},
          "execution_count": 53
        }
      ]
    },
    {
      "cell_type": "code",
      "source": [
        "#use get_text() if there are multiple child elements\n",
        "\n",
        "div=soup.find(\"div\")\n",
        "print(div.prettify())\n",
        "print(div.get_text())"
      ],
      "metadata": {
        "colab": {
          "base_uri": "https://localhost:8080/"
        },
        "id": "hAzIu4u_Q1MJ",
        "outputId": "341b8a84-961b-43e2-adda-19882fb16981"
      },
      "execution_count": 54,
      "outputs": [
        {
          "output_type": "stream",
          "name": "stdout",
          "text": [
            "<div align=\"middle\">\n",
            " <h1>\n",
            "  HTML Webpage\n",
            " </h1>\n",
            " <p>\n",
            "  Link to more interesting example:\n",
            "  <a href=\"https://keithgalli.github.io/web-scraping/webpage.html\">\n",
            "   keithgalli.github.io/web-scraping/webpage.html\n",
            "  </a>\n",
            " </p>\n",
            "</div>\n",
            "\n",
            "\n",
            "HTML Webpage\n",
            "Link to more interesting example: keithgalli.github.io/web-scraping/webpage.html\n",
            "\n"
          ]
        }
      ]
    },
    {
      "cell_type": "code",
      "source": [
        "#get a specific property from an element\n",
        "\n",
        "link=soup.find(\"a\")\n",
        "link\n",
        "link['href']\n"
      ],
      "metadata": {
        "colab": {
          "base_uri": "https://localhost:8080/",
          "height": 36
        },
        "id": "lhlpUQ9ZRpki",
        "outputId": "2de56b60-9c87-417d-c711-9b1fbac4afd3"
      },
      "execution_count": 57,
      "outputs": [
        {
          "output_type": "execute_result",
          "data": {
            "text/plain": [
              "'https://keithgalli.github.io/web-scraping/webpage.html'"
            ],
            "application/vnd.google.colaboratory.intrinsic+json": {
              "type": "string"
            }
          },
          "metadata": {},
          "execution_count": 57
        }
      ]
    },
    {
      "cell_type": "code",
      "source": [
        "#find the next elements which are in the same level with div\n",
        "soup.body.find(\"div\").find_next_siblings()"
      ],
      "metadata": {
        "colab": {
          "base_uri": "https://localhost:8080/"
        },
        "id": "lcIcOTkCSnt_",
        "outputId": "ef3d044c-d21a-4a76-da36-e4b9d4f5a64a"
      },
      "execution_count": 59,
      "outputs": [
        {
          "output_type": "execute_result",
          "data": {
            "text/plain": [
              "[<h2>A Header</h2>,\n",
              " <p><i>Some italicized text</i></p>,\n",
              " <h2>Another header</h2>,\n",
              " <p id=\"paragraph-id\"><b>Some bold text</b></p>]"
            ]
          },
          "metadata": {},
          "execution_count": 59
        }
      ]
    }
  ]
}